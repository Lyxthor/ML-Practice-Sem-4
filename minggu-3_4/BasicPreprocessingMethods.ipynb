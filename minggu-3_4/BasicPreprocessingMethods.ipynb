{
  "nbformat": 4,
  "nbformat_minor": 0,
  "metadata": {
    "colab": {
      "provenance": [],
      "authorship_tag": "ABX9TyNdh5rpSIIzceX/Iag3c5HI",
      "include_colab_link": true
    },
    "kernelspec": {
      "name": "python3",
      "display_name": "Python 3"
    },
    "language_info": {
      "name": "python"
    }
  },
  "cells": [
    {
      "cell_type": "markdown",
      "metadata": {
        "id": "view-in-github",
        "colab_type": "text"
      },
      "source": [
        "<a href=\"https://colab.research.google.com/github/Lyxthor/ML-Practice-Sem-4/blob/main/minggu-3_4/BasicPreprocessingMethods.ipynb\" target=\"_parent\"><img src=\"https://colab.research.google.com/assets/colab-badge.svg\" alt=\"Open In Colab\"/></a>"
      ]
    },
    {
      "cell_type": "code",
      "execution_count": 1,
      "metadata": {
        "colab": {
          "base_uri": "https://localhost:8080/"
        },
        "id": "B6zePAC1NBCJ",
        "outputId": "4a9ca564-0fd1-49c7-d95d-5eac6c98bf12"
      },
      "outputs": [
        {
          "output_type": "execute_result",
          "data": {
            "text/plain": [
              "array([[ 2.1, -1.9,  5.5],\n",
              "       [-1.5,  2.4,  3.5],\n",
              "       [ 5.9,  2.3, -5.8]])"
            ]
          },
          "metadata": {},
          "execution_count": 1
        }
      ],
      "source": [
        "import numpy as np\n",
        "from sklearn import preprocessing\n",
        "\n",
        "sample_data = np.array([\n",
        "    [2.1, -1.9, 5.5],\n",
        "    [-1.5, 2.4, 3.5],\n",
        "    [5.9, 2.3, -5.8]\n",
        "])\n",
        "\n",
        "sample_data"
      ]
    },
    {
      "cell_type": "markdown",
      "source": [
        "# **Binarization Method**\n",
        "mengkonversi nilai yang lebih besar dari threshold ke nila 1 dan yang lebih kecil ke nilai 0"
      ],
      "metadata": {
        "id": "nctjEhTnNmTY"
      }
    },
    {
      "cell_type": "code",
      "source": [
        "preprocessor = preprocessing.Binarizer(threshold=0.5)\n",
        "binarized_data = preprocessor.transform(sample_data)\n",
        "binarized_data"
      ],
      "metadata": {
        "colab": {
          "base_uri": "https://localhost:8080/"
        },
        "id": "l7A_c0WXNtwM",
        "outputId": "7f38872f-e986-40bd-c981-4088411697cf"
      },
      "execution_count": 3,
      "outputs": [
        {
          "output_type": "execute_result",
          "data": {
            "text/plain": [
              "array([[1., 0., 1.],\n",
              "       [0., 1., 1.],\n",
              "       [1., 1., 0.]])"
            ]
          },
          "metadata": {},
          "execution_count": 3
        }
      ]
    },
    {
      "cell_type": "markdown",
      "source": [
        "# **Scaling Method**\n"
      ],
      "metadata": {
        "id": "JlJl5Io5Oita"
      }
    },
    {
      "cell_type": "code",
      "source": [
        "preprocessor = preprocessing.MinMaxScaler(feature_range=(0 ,1))\n",
        "# **\n",
        "preprocessor.fit(sample_data)\n",
        "scaled_data = preprocessor.transform(sample_data)\n",
        "# scaled_data = preprocessor.fit_transform(sample_data) **For short\n",
        "scaled_data"
      ],
      "metadata": {
        "colab": {
          "base_uri": "https://localhost:8080/"
        },
        "id": "Tr8reNSJOjfZ",
        "outputId": "c92df753-b5d8-43dd-f4fb-172b7307bc18"
      },
      "execution_count": 4,
      "outputs": [
        {
          "output_type": "execute_result",
          "data": {
            "text/plain": [
              "array([[0.48648649, 0.        , 1.        ],\n",
              "       [0.        , 1.        , 0.82300885],\n",
              "       [1.        , 0.97674419, 0.        ]])"
            ]
          },
          "metadata": {},
          "execution_count": 4
        }
      ]
    },
    {
      "cell_type": "markdown",
      "source": [
        "# **Normalization Method**\n"
      ],
      "metadata": {
        "id": "0JicyVm4Pj4a"
      }
    },
    {
      "cell_type": "markdown",
      "source": [
        "# **L1 Normalization : Least Absolute Deviations**\n",
        "Ref : https://en.wikipedia.org/w/index.php?title=Least_absolute_deviations&oldid=1258886998"
      ],
      "metadata": {
        "id": "f22D3acsPsyR"
      }
    },
    {
      "cell_type": "code",
      "source": [
        "l1_normalized_data = preprocessing.normalize(sample_data, norm='l1')\n",
        "l1_normalized_data"
      ],
      "metadata": {
        "colab": {
          "base_uri": "https://localhost:8080/"
        },
        "id": "M6_uFCX8P5Ub",
        "outputId": "f97ecd53-ecf2-413b-ddcd-05e4ec5a1262"
      },
      "execution_count": 5,
      "outputs": [
        {
          "output_type": "execute_result",
          "data": {
            "text/plain": [
              "array([[ 0.22105263, -0.2       ,  0.57894737],\n",
              "       [-0.2027027 ,  0.32432432,  0.47297297],\n",
              "       [ 0.42142857,  0.16428571, -0.41428571]])"
            ]
          },
          "metadata": {},
          "execution_count": 5
        }
      ]
    },
    {
      "cell_type": "markdown",
      "source": [
        "# **L2 Normalization : Least Squares**\n",
        "Ref : https://en.wikipedia.org/wiki/Least_squares\n"
      ],
      "metadata": {
        "id": "XkApaGHzQw7S"
      }
    },
    {
      "cell_type": "code",
      "source": [
        "l2_normalized_data = preprocessing.normalize(sample_data, norm='l2')\n",
        "l2_normalized_data"
      ],
      "metadata": {
        "colab": {
          "base_uri": "https://localhost:8080/"
        },
        "outputId": "63c2d4a6-7772-43ba-9828-88f4593a1dd6",
        "id": "YUyPInXvQ6OY"
      },
      "execution_count": 6,
      "outputs": [
        {
          "output_type": "execute_result",
          "data": {
            "text/plain": [
              "array([[ 0.33946114, -0.30713151,  0.88906489],\n",
              "       [-0.33325106,  0.53320169,  0.7775858 ],\n",
              "       [ 0.68706914,  0.26784051, -0.6754239 ]])"
            ]
          },
          "metadata": {},
          "execution_count": 6
        }
      ]
    }
  ]
}