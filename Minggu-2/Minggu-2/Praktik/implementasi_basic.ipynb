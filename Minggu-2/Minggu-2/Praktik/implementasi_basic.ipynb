{
  "cells": [
    {
      "cell_type": "markdown",
      "metadata": {
        "id": "view-in-github",
        "colab_type": "text"
      },
      "source": [
        "<a href=\"https://colab.research.google.com/github/Lyxthor/ML-Practice-Sem-4/blob/main/Minggu-2/Minggu-2/Praktik/implementasi_basic.ipynb\" target=\"_parent\"><img src=\"https://colab.research.google.com/assets/colab-badge.svg\" alt=\"Open In Colab\"/></a>"
      ]
    },
    {
      "cell_type": "code",
      "execution_count": 1,
      "id": "7ed79772",
      "metadata": {
        "id": "7ed79772",
        "outputId": "e330a86c-5a95-4e94-e3dc-27cd4443d11b",
        "colab": {
          "base_uri": "https://localhost:8080/"
        }
      },
      "outputs": [
        {
          "output_type": "stream",
          "name": "stdout",
          "text": [
            "Enter your name: Dudung Su Dudung\n",
            "Enter your age: 21\n",
            "Hello Dudung Su Dudung, you are 21 years old.\n",
            "You are an adult.\n",
            "Loop iteration: 0\n",
            "Loop iteration: 1\n",
            "Loop iteration: 2\n",
            "Days of the week: ['Monday', 'Tuesday', 'Wednesday', 'Thursday', 'Friday']\n",
            "Tuple version: ('Monday', 'Tuesday', 'Wednesday', 'Thursday', 'Friday')\n",
            "Welcome, Dudung Su Dudung!\n",
            "Random number between 1 and 10: 5\n",
            "Square root of 16: 4.0\n",
            "Hi, my name is Dudung Su Dudung and I am 21 years old.\n"
          ]
        }
      ],
      "source": [
        "import math\n",
        "import random\n",
        "\n",
        "# 1. Print and Variables\n",
        "name = input(\"Enter your name: \")\n",
        "age = int(input(\"Enter your age: \"))\n",
        "print(f\"Hello {name}, you are {age} years old.\")\n",
        "\n",
        "# 2. Conditional Statements and Loops\n",
        "if age < 18:\n",
        "    print(\"You are a minor.\")\n",
        "else:\n",
        "    print(\"You are an adult.\")\n",
        "\n",
        "for i in range(3):\n",
        "    print(f\"Loop iteration: {i}\")\n",
        "\n",
        "# 3. Lists and Tuples\n",
        "days = [\"Monday\", \"Tuesday\", \"Wednesday\", \"Thursday\", \"Friday\"]\n",
        "days_tuple = tuple(days)\n",
        "print(\"Days of the week:\", days)\n",
        "print(\"Tuple version:\", days_tuple)\n",
        "\n",
        "# 4. Functions and Dictionaries\n",
        "def greet_user(username):\n",
        "    return f\"Welcome, {username}!\"\n",
        "\n",
        "user_info = {\"name\": name, \"age\": age}\n",
        "print(greet_user(user_info[\"name\"]))\n",
        "\n",
        "# 5. Modules (math, random)\n",
        "random_number = random.randint(1, 10)\n",
        "print(f\"Random number between 1 and 10: {random_number}\")\n",
        "print(f\"Square root of 16: {math.sqrt(16)}\")\n",
        "\n",
        "# 6. Object-Oriented Programming\n",
        "class Person:\n",
        "    def __init__(self, name, age):\n",
        "        self.name = name\n",
        "        self.age = age\n",
        "\n",
        "    def introduce(self):\n",
        "        return f\"Hi, my name is {self.name} and I am {self.age} years old.\"\n",
        "\n",
        "person = Person(name, age)\n",
        "print(person.introduce())\n"
      ]
    }
  ],
  "metadata": {
    "colab": {
      "provenance": [],
      "include_colab_link": true
    },
    "language_info": {
      "name": "python"
    },
    "kernelspec": {
      "name": "python3",
      "display_name": "Python 3"
    }
  },
  "nbformat": 4,
  "nbformat_minor": 5
}